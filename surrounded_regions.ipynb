{
 "cells": [
  {
   "cell_type": "markdown",
   "metadata": {},
   "source": [
    "# Surrounded Regions\n",
    "\n",
    "Given a 2D board containing 'X' and 'O' (the letter O), capture all regions surrounded by 'X'.\n",
    "\n",
    "A region is captured by flipping all 'O's into 'X's in that surrounded region.\n",
    "\n",
    "__Example:__\n",
    "```\n",
    "X X X X\n",
    "X O O X\n",
    "X X O X\n",
    "X O X X\n",
    "```\n",
    "\n",
    "After running your function, the board should be:\n",
    "```\n",
    "X X X X\n",
    "X X X X\n",
    "X X X X\n",
    "X O X X\n",
    "```\n",
    "\n",
    "__Explanation:__\n",
    "\n",
    "Surrounded regions shouldn’t be on the border, which means that any 'O' on the border of the board are not flipped to 'X'. Any 'O' that is not on the border and it is not connected to an 'O' on the border will be flipped to 'X'. Two cells are connected if they are adjacent cells connected horizontally or vertically."
   ]
  },
  {
   "cell_type": "code",
   "execution_count": null,
   "metadata": {},
   "outputs": [],
   "source": [
    "class Solution:\n",
    "    def inside_board(self, board: List[List[str]], x, y):\n",
    "        return 0 <= x < len(board) and 0 <= y < len(board[0])\n",
    "    \n",
    "    def mark_adjacent(self, board: List[List[str]], x, y):\n",
    "        if board[x][y] == 'X':\n",
    "            return\n",
    "        to_mark = [(x,y)]\n",
    "        while to_mark:\n",
    "            current = to_mark.pop()\n",
    "            for s in [(-1, 0), (0, -1), (1, 0), (0, 1)]:\n",
    "                board[current[0]][current[1]] = 'o'\n",
    "                child = (current[0] + s[0], current[1] + s[1])\n",
    "                if self.inside_board(board, child[0], child[1]) and board[child[0]][child[1]] == 'O':\n",
    "                    to_mark.append((child))\n",
    "    \n",
    "    def solve(self, board: List[List[str]]) -> None:\n",
    "        \"\"\"\n",
    "        Do not return anything, modify board in-place instead.\n",
    "        \"\"\"\n",
    "        for x in range(len(board)):\n",
    "            self.mark_adjacent(board, x, 0)\n",
    "            self.mark_adjacent(board, x, len(board[0]) - 1)\n",
    "        \n",
    "        if board:\n",
    "            for y in range(len(board[0])):\n",
    "                self.mark_adjacent(board, 0, y)\n",
    "                self.mark_adjacent(board, len(board) - 1, y)\n",
    "            \n",
    "        for x in range(len(board)):\n",
    "            for y in range(len(board[0])):\n",
    "                if board[x][y] == 'O':\n",
    "                    board[x][y] = 'X'\n",
    "                elif board[x][y] == 'o':\n",
    "                    board[x][y] = 'O'\n",
    "                "
   ]
  }
 ],
 "metadata": {
  "language_info": {
   "codemirror_mode": {
    "name": "ipython",
    "version": 3
   },
   "file_extension": ".py",
   "mimetype": "text/x-python",
   "name": "python",
   "nbconvert_exporter": "python",
   "pygments_lexer": "ipython3",
   "version": 3
  },
  "orig_nbformat": 2
 },
 "nbformat": 4,
 "nbformat_minor": 2
}