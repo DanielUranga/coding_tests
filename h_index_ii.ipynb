{
 "cells": [
  {
   "cell_type": "markdown",
   "metadata": {},
   "source": [
    "# H-Index II\n",
    "https://leetcode.com/explore/challenge/card/june-leetcoding-challenge/541/week-3-june-15th-june-21st/3364/\n",
    "\n",
    "Given an array of citations sorted in ascending order (each citation is a non-negative integer) of a researcher, write a function to compute the researcher's h-index.\n",
    "\n",
    "According to the definition of h-index on Wikipedia: \"A scientist has index h if h of his/her N papers have at least h citations each, and the other N − h papers have no more than h citations each.\"\n",
    "\n",
    "__Example:__\n",
    "```\n",
    "Input: citations = [0,1,3,5,6]\n",
    "Output: 3 \n",
    "Explanation: [0,1,3,5,6] means the researcher has 5 papers in total and each of them had \n",
    "             received 0, 1, 3, 5, 6 citations respectively. \n",
    "             Since the researcher has 3 papers with at least 3 citations each and the remaining \n",
    "             two with no more than 3 citations each, her h-index is 3.\n",
    "```\n",
    "__Note:__\n",
    "\n",
    "If there are several possible values for h, the maximum one is taken as the h-index.\n",
    "\n",
    "__Follow up:__\n",
    "\n",
    "* This is a follow up problem to H-Index, where citations is now guaranteed to be sorted in ascending order.\n",
    "* Could you solve it in logarithmic time complexity?"
   ]
  },
  {
   "cell_type": "code",
   "execution_count": 1,
   "metadata": {},
   "outputs": [],
   "source": [
    "from typing import List\n",
    "\n",
    "class Solution:\n",
    "    def hIndex(self, citations: List[int]) -> int:\n",
    "        low = 0\n",
    "        high = len(citations)\n",
    "        \n",
    "        while (low < high):\n",
    "            mid = (low + high) // 2\n",
    "            c = citations[mid]\n",
    "            q = len(citations) - mid\n",
    "            \n",
    "            if q > c:\n",
    "                low = mid + 1\n",
    "            else:\n",
    "                high = mid\n",
    "        \n",
    "        return len(citations) - high"
   ]
  },
  {
   "cell_type": "code",
   "execution_count": 2,
   "metadata": {},
   "outputs": [
    {
     "output_type": "execute_result",
     "data": {
      "text/plain": "3"
     },
     "metadata": {},
     "execution_count": 2
    }
   ],
   "source": [
    "s = Solution()\n",
    "s.hIndex([0,1,3,5,6])"
   ]
  }
 ],
 "metadata": {
  "language_info": {
   "codemirror_mode": {
    "name": "ipython",
    "version": 3
   },
   "file_extension": ".py",
   "mimetype": "text/x-python",
   "name": "python",
   "nbconvert_exporter": "python",
   "pygments_lexer": "ipython3",
   "version": "3.6.2-final"
  },
  "orig_nbformat": 2,
  "kernelspec": {
   "name": "python36264bit3c1cf9ce669c4e7c8385a32ae073f6c8",
   "display_name": "Python 3.6.2 64-bit"
  }
 },
 "nbformat": 4,
 "nbformat_minor": 2
}