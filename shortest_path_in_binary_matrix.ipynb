{
 "cells": [
  {
   "cell_type": "markdown",
   "metadata": {},
   "source": [
    "# Shortest Path in Binary Matrix\n",
    "https://leetcode.com/problems/shortest-path-in-binary-matrix/submissions/"
   ]
  },
  {
   "cell_type": "code",
   "execution_count": 13,
   "metadata": {},
   "outputs": [],
   "source": [
    "from queue import Queue\n",
    "from typing import List\n",
    "\n",
    "class Solution:\n",
    "    def shortestPathBinaryMatrix(self, grid: List[List[int]]) -> int:\n",
    "        to_visit = Queue()\n",
    "        visited = set()\n",
    "        \n",
    "        if grid[0][0] == 0:\n",
    "            to_visit.put((0, 0, 1))\n",
    "        \n",
    "        while not to_visit.empty():\n",
    "            current = to_visit.get()\n",
    "            \n",
    "            if current[0] == current[1] == len(grid) - 1:\n",
    "                return current[2]\n",
    "            \n",
    "            for diff in [(-1,-1), (-1,0),(-1,1),(0,-1),(0,1),(1,-1),(1,0),(1,1)]:\n",
    "                child = (current[0]+diff[0], current[1]+diff[1])\n",
    "                if child[0] < 0 or child[0] >= len(grid) or child[1] < 0 or child[1] >= len(grid) or grid[child[0]][child[1]] != 0 or child in visited:\n",
    "                    continue\n",
    "                else:\n",
    "                    to_visit.put((child[0], child[1], current[2]+1))\n",
    "                    visited.add(child)\n",
    "                    \n",
    "        return -1"
   ]
  },
  {
   "cell_type": "code",
   "execution_count": 14,
   "metadata": {},
   "outputs": [
    {
     "output_type": "execute_result",
     "data": {
      "text/plain": "-1"
     },
     "metadata": {},
     "execution_count": 14
    }
   ],
   "source": [
    "s = Solution()\n",
    "s.shortestPathBinaryMatrix([[1,0,0],[1,1,0],[1,1,0]])"
   ]
  }
 ],
 "metadata": {
  "language_info": {
   "codemirror_mode": {
    "name": "ipython",
    "version": 3
   },
   "file_extension": ".py",
   "mimetype": "text/x-python",
   "name": "python",
   "nbconvert_exporter": "python",
   "pygments_lexer": "ipython3",
   "version": "3.6.2-final"
  },
  "orig_nbformat": 2,
  "kernelspec": {
   "name": "python36264bit3c1cf9ce669c4e7c8385a32ae073f6c8",
   "display_name": "Python 3.6.2 64-bit"
  }
 },
 "nbformat": 4,
 "nbformat_minor": 2
}