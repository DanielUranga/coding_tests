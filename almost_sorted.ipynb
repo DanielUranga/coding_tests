{
 "cells": [
  {
   "cell_type": "markdown",
   "metadata": {},
   "source": [
    "# Almost Sorted\n",
    "\n",
    "https://www.hackerrank.com/challenges/almost-sorted/problem"
   ]
  },
  {
   "cell_type": "code",
   "execution_count": 47,
   "metadata": {},
   "outputs": [
    {
     "name": "stdout",
     "output_type": "stream",
     "text": [
      "yes\n",
      "---\n",
      "yes\n",
      "swap 2 5\n",
      "---\n",
      "1\n",
      "no\n",
      "---\n",
      "2\n",
      "yes\n",
      "swap 2 3\n",
      "---\n",
      "yes\n",
      "reverse 2 5\n",
      "---\n",
      "2\n",
      "no\n"
     ]
    }
   ],
   "source": [
    "def almostSorted(arr):\n",
    "    sorted = True\n",
    "    reversable = True\n",
    "    reverse_start = -1\n",
    "    reverse_end = -1\n",
    "    wrong_idxs = []\n",
    "    \n",
    "    for idx, elem in enumerate(arr):\n",
    "        if idx == 0:\n",
    "            continue\n",
    "        \n",
    "        if arr[idx-1] > elem:\n",
    "            sorted = False\n",
    "\n",
    "            if reverse_start == -1:\n",
    "                reverse_start = idx\n",
    "            elif reverse_end != -1:\n",
    "                reversable = False\n",
    "\n",
    "            if len(wrong_idxs) < 3:\n",
    "                wrong_idxs.append(idx)\n",
    "\n",
    "        elif arr[idx-1] < elem and reverse_start != -1 and reverse_end == -1:\n",
    "            reverse_end = idx\n",
    "            \n",
    "    if reverse_start != -1 and reverse_end == -1:\n",
    "        reverse_end = len(arr)\n",
    "\n",
    "    if sorted:\n",
    "        print(\"yes\")\n",
    "    elif len(wrong_idxs) == 2:\n",
    "        print(\"yes\")\n",
    "        print(\"swap {} {}\".format(wrong_idxs[0], wrong_idxs[1] + 1))\n",
    "    elif len(wrong_idxs) == 1:\n",
    "        wrong_idx = wrong_idxs[0]\n",
    "        print(wrong_idx)\n",
    "        if wrong_idx + 1 < len(arr) and arr[wrong_idx - 1] > arr[wrong_idx + 1]:\n",
    "            print(\"no\")\n",
    "        elif wrong_idx - 2 >= 0 and arr[wrong_idx - 2] > arr[wrong_idx]:\n",
    "            print(\"no\")\n",
    "        else:\n",
    "            print(\"yes\")\n",
    "            print(\"swap {} {}\".format(wrong_idx, wrong_idx + 1))\n",
    "    elif reverse_end != -1 and reversable:\n",
    "        print(\"yes\")\n",
    "        print(\"reverse {} {}\".format(reverse_start, reverse_end))\n",
    "    else:\n",
    "        print(\"no\")\n",
    "            \n",
    "almostSorted([1, 2])\n",
    "print(\"---\")\n",
    "almostSorted([5, 15, 12, 13, 9])\n",
    "print(\"---\")\n",
    "almostSorted([3, 1, 2])\n",
    "print(\"---\")\n",
    "almostSorted([1, 3, 2])\n",
    "print(\"---\")\n",
    "almostSorted([1, 5, 4, 3, 2])\n",
    "print(\"---\")\n",
    "almostSorted([43, 65, 1, 98, 99, 101])\n"
   ]
  },
  {
   "cell_type": "code",
   "execution_count": null,
   "metadata": {},
   "outputs": [],
   "source": []
  }
 ],
 "metadata": {
  "kernelspec": {
   "display_name": "Python 3.6.2 64-bit",
   "language": "python",
   "name": "python36264bit3c1cf9ce669c4e7c8385a32ae073f6c8"
  },
  "language_info": {
   "codemirror_mode": {
    "name": "ipython",
    "version": 3
   },
   "file_extension": ".py",
   "mimetype": "text/x-python",
   "name": "python",
   "nbconvert_exporter": "python",
   "pygments_lexer": "ipython3",
   "version": "3.6.2"
  }
 },
 "nbformat": 4,
 "nbformat_minor": 2
}
