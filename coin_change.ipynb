{
 "cells": [
  {
   "cell_type": "markdown",
   "metadata": {},
   "source": [
    "# Coin change\n",
    "https://www.hackerrank.com/challenges/coin-change/problem"
   ]
  },
  {
   "cell_type": "code",
   "execution_count": 26,
   "metadata": {},
   "outputs": [
    {
     "name": "stdout",
     "output_type": "stream",
     "text": [
      "1\n",
      "4\n"
     ]
    }
   ],
   "source": [
    "def getWaysWithIndexAndMemo(n, c, c_index, memo):\n",
    "    if n == 0:\n",
    "        return 1\n",
    "    elif c_index >= len(c):\n",
    "        return 0\n",
    "    \n",
    "    memo_key = \"{}-{}\".format(n, c_index)\n",
    "    if memo_key in memo:\n",
    "        return memo[memo_key]\n",
    "    \n",
    "    ways = 0\n",
    "    remaining = n\n",
    "    while remaining >= 0:\n",
    "        ways += getWaysWithIndexAndMemo(remaining, c, c_index + 1, memo)\n",
    "        remaining -= c[c_index]\n",
    "    \n",
    "    memo[memo_key] = ways\n",
    "    \n",
    "    return ways\n",
    "\n",
    "def getWays(n, c):\n",
    "    return getWaysWithIndexAndMemo(n, c, 0, {})\n",
    "\n",
    "print(getWays(4, [2,3]))\n",
    "print(getWays(4, [1,2,3]))\n",
    "\n",
    "assert getWays(4, [1, 2, 3]) == 4\n",
    "assert getWays(10, [2, 5, 3, 6]) == 5"
   ]
  },
  {
   "cell_type": "code",
   "execution_count": null,
   "metadata": {},
   "outputs": [],
   "source": []
  }
 ],
 "metadata": {
  "kernelspec": {
   "display_name": "Python 3.6.2 64-bit",
   "language": "python",
   "name": "python36264bit3c1cf9ce669c4e7c8385a32ae073f6c8"
  },
  "language_info": {
   "codemirror_mode": {
    "name": "ipython",
    "version": 3
   },
   "file_extension": ".py",
   "mimetype": "text/x-python",
   "name": "python",
   "nbconvert_exporter": "python",
   "pygments_lexer": "ipython3",
   "version": "3.6.2"
  }
 },
 "nbformat": 4,
 "nbformat_minor": 2
}
