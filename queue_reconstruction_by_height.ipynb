{
 "cells": [
  {
   "cell_type": "markdown",
   "metadata": {},
   "source": [
    "# Queue Reconstruction by Height\n",
    "https://leetcode.com/explore/featured/card/june-leetcoding-challenge/539/week-1-june-1st-june-7th/3352/\n",
    "\n",
    "Suppose you have a random list of people standing in a queue. Each person is described by a pair of integers `(h, k)`, where `h` is the height of the person and `k` is the number of people in front of this person who have a height greater than or equal to `h`. Write an algorithm to reconstruct the queue.\n",
    "\n",
    "__Note:__\n",
    "The number of people is less than 1,100.\n",
    "\n",
    "__Example:__\n",
    "```\n",
    "Input:\n",
    "[[7,0], [4,4], [7,1], [5,0], [6,1], [5,2]]\n",
    "\n",
    "Output:\n",
    "[[5,0], [7,0], [5,2], [6,1], [4,4], [7,1]]\n",
    "```"
   ]
  },
  {
   "cell_type": "code",
   "execution_count": 11,
   "metadata": {},
   "outputs": [
    {
     "output_type": "stream",
     "name": "stdout",
     "text": "[[5, 0], [7, 0], [5, 2], [6, 1], [4, 4], [7, 1]]\n"
    }
   ],
   "source": [
    "import bisect\n",
    "\n",
    "class Solution:\n",
    "    def reconstructQueue(self, people):\n",
    "        people_by_height = {}\n",
    "        for p in people:\n",
    "            height = p[0]\n",
    "            in_front = p[1]\n",
    "            if height not in people_by_height:\n",
    "                people_by_height[height] = []\n",
    "            bisect.insort(people_by_height[height], in_front)\n",
    "        \n",
    "        result = []\n",
    "        for h in reversed(sorted(people_by_height.keys())):\n",
    "            for k in people_by_height[h]:\n",
    "                result.insert(k, [h, k])\n",
    "\n",
    "        return result"
   ]
  },
  {
   "cell_type": "code",
   "execution_count": null,
   "metadata": {},
   "outputs": [],
   "source": [
    "s = Solution()\n",
    "print(s.reconstructQueue([[7,0], [4,4], [7,1], [5,0], [6,1], [5,2]]))"
   ]
  }
 ],
 "metadata": {
  "language_info": {
   "codemirror_mode": {
    "name": "ipython",
    "version": 3
   },
   "file_extension": ".py",
   "mimetype": "text/x-python",
   "name": "python",
   "nbconvert_exporter": "python",
   "pygments_lexer": "ipython3",
   "version": "3.6.2-final"
  },
  "orig_nbformat": 2,
  "kernelspec": {
   "name": "python36264bit3c1cf9ce669c4e7c8385a32ae073f6c8",
   "display_name": "Python 3.6.2 64-bit"
  }
 },
 "nbformat": 4,
 "nbformat_minor": 2
}