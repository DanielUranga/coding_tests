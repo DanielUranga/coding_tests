{
 "cells": [
  {
   "cell_type": "markdown",
   "metadata": {},
   "source": [
    "# Binary Tree Maximum Path Sum\n",
    "Solution for https://leetcode.com/explore/challenge/card/30-day-leetcoding-challenge/532/week-5/3314/\n",
    "\n",
    "Given a non-empty binary tree, find the maximum path sum.\n",
    "\n",
    "For this problem, a path is defined as any sequence of nodes from some starting node to any node in the tree along the parent-child connections. The path must contain at least one node and does not need to go through the root.\n",
    "\n",
    "Example 1:\n",
    "```\n",
    "Input: [1,2,3]\n",
    "\n",
    "       1\n",
    "      / \\\n",
    "     2   3\n",
    "\n",
    "Output: 6\n",
    "```\n",
    "\n",
    "Example 2:\n",
    "```\n",
    "Input: [-10,9,20,null,null,15,7]\n",
    "\n",
    "   -10\n",
    "   / \\\n",
    "  9  20\n",
    "    /  \\\n",
    "   15   7\n",
    "\n",
    "Output: 42\n",
    "```"
   ]
  },
  {
   "cell_type": "code",
   "execution_count": 66,
   "metadata": {},
   "outputs": [],
   "source": [
    "# Definition for a binary tree node.\n",
    "class TreeNode:\n",
    "    def __init__(self, val=0, left=None, right=None):\n",
    "        self.val = val\n",
    "        self.left = left\n",
    "        self.right = right\n",
    "\n",
    "    # TODO: Fix this one\n",
    "    def from_array(self, arr):\n",
    "        if len(arr) == 3 and arr[0]:\n",
    "            self.val = arr[0]\n",
    "            self.left = TreeNode(arr[1])\n",
    "            self.right = TreeNode(arr[2])\n",
    "        elif len(arr) > 3:\n",
    "            self.val = arr[0]\n",
    "            mid = (len(arr) - 1) // 2 + 1\n",
    "            self.left = TreeNode()\n",
    "            self.right = TreeNode()\n",
    "            self.left.from_array(arr[1:mid])\n",
    "            self.right.from_array(arr[mid:])\n",
    "\n",
    "    def __repr__(self):\n",
    "        return \"(v: {}, l: {}, r: {})\".format(self.val, self.left, self.right)"
   ]
  },
  {
   "cell_type": "code",
   "execution_count": 42,
   "metadata": {},
   "outputs": [],
   "source": [
    "class Solution:\n",
    "    def maxPathSumImpl(self, root: TreeNode) -> int:\n",
    "        if not root:\n",
    "            return 0\n",
    "        \n",
    "        paths = []\n",
    "        maxBranchL = 0\n",
    "        maxBranchR = 0\n",
    "        \n",
    "        if root.left:\n",
    "            maxPathL, maxBranchL = self.maxPathSumImpl(root.left)\n",
    "            paths.append(maxPathL)\n",
    "        \n",
    "        if root.right:\n",
    "            maxPathR, maxBranchR = self.maxPathSumImpl(root.right)\n",
    "            paths.append(maxPathR)\n",
    "        \n",
    "        paths.append(root.val + max(maxBranchL, 0) + max(maxBranchR, 0))\n",
    "        \n",
    "        maxBranch = root.val + max(maxBranchL, maxBranchR, 0)\n",
    "        \n",
    "        return max(paths), maxBranch\n",
    "    \n",
    "    def maxPathSum(self, root: TreeNode) -> int:\n",
    "        return self.maxPathSumImpl(root)[0]\n"
   ]
  },
  {
   "cell_type": "code",
   "execution_count": 67,
   "metadata": {},
   "outputs": [
    {
     "output_type": "stream",
     "name": "stdout",
     "text": "(v: -10, l: (v: 9, l: (v: 20, l: None, r: None), r: (v: 1, l: None, r: None)), r: (v: 2, l: (v: 15, l: None, r: None), r: (v: 7, l: None, r: None)))\n"
    },
    {
     "output_type": "execute_result",
     "data": {
      "text/plain": "36"
     },
     "metadata": {},
     "execution_count": 67
    }
   ],
   "source": [
    "t = TreeNode()\n",
    "t.from_array([-10,9,20,1,2,15,7])\n",
    "s = Solution()\n",
    "\n",
    "print(t)\n",
    "s.maxPathSum(t)\n"
   ]
  }
 ],
 "metadata": {
  "language_info": {
   "codemirror_mode": {
    "name": "ipython",
    "version": 3
   },
   "file_extension": ".py",
   "mimetype": "text/x-python",
   "name": "python",
   "nbconvert_exporter": "python",
   "pygments_lexer": "ipython3",
   "version": "3.6.2-final"
  },
  "orig_nbformat": 2,
  "kernelspec": {
   "name": "python36264bit3c1cf9ce669c4e7c8385a32ae073f6c8",
   "display_name": "Python 3.6.2 64-bit"
  }
 },
 "nbformat": 4,
 "nbformat_minor": 2
}