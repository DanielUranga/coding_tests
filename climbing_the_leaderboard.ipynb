{
 "cells": [
  {
   "cell_type": "markdown",
   "metadata": {},
   "source": [
    "# Climbing the Leaderboard\n",
    "\n",
    "https://www.hackerrank.com/challenges/climbing-the-leaderboard/problem"
   ]
  },
  {
   "cell_type": "code",
   "execution_count": 87,
   "metadata": {},
   "outputs": [],
   "source": [
    "def climbingLeaderboard(scores, alice):\n",
    "    if not scores:\n",
    "        return []\n",
    "    result = []\n",
    "    scores = list(dict.fromkeys(scores))\n",
    "    score_idx = len(scores) - 1\n",
    "    for al in alice:\n",
    "        if (scores[score_idx] > al):\n",
    "            result.append(score_idx + 2)\n",
    "        else:\n",
    "            while al > scores[score_idx] and score_idx > 0:\n",
    "                score_idx = score_idx - 1\n",
    "            if (al >= scores[score_idx]):\n",
    "                result.append(score_idx + 1)\n",
    "            else:\n",
    "                result.append(score_idx + 2)\n",
    "    return result\n",
    "\n",
    "assert climbingLeaderboard([100, 100], [5]) == [2]\n",
    "assert climbingLeaderboard([100, 100, 50, 40, 40, 20, 10], [25]) == [4]\n",
    "assert climbingLeaderboard([100, 100, 50, 40, 40, 20, 10], [5, 25, 50, 120]) == [6, 4, 2, 1]\n",
    "assert climbingLeaderboard([100, 90, 90, 80, 75, 60], [50, 65, 77, 90, 102]) == [6, 5, 4, 2, 1]"
   ]
  },
  {
   "cell_type": "code",
   "execution_count": null,
   "metadata": {},
   "outputs": [],
   "source": []
  }
 ],
 "metadata": {
  "kernelspec": {
   "display_name": "Python 3.6.2 64-bit",
   "language": "python",
   "name": "python36264bit3c1cf9ce669c4e7c8385a32ae073f6c8"
  },
  "language_info": {
   "codemirror_mode": {
    "name": "ipython",
    "version": 3
   },
   "file_extension": ".py",
   "mimetype": "text/x-python",
   "name": "python",
   "nbconvert_exporter": "python",
   "pygments_lexer": "ipython3",
   "version": "3.6.2"
  }
 },
 "nbformat": 4,
 "nbformat_minor": 2
}
