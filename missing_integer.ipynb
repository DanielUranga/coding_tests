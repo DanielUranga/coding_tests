{
 "cells": [
  {
   "cell_type": "code",
   "execution_count": 2,
   "metadata": {},
   "outputs": [],
   "source": [
    "# Find the minimun POSITIVE integer not included in the inpute array.\n",
    "# Constraints:\n",
    "#   len(arr) <= 100_000\n",
    "#   min(arr) >= -1_000_000\n",
    "#   max(arr) <= 1_000_000\n",
    "\n",
    "def solution(A):\n",
    "    A_set = set(A)\n",
    "    max_plus_one = max(max(A_set) + 1, 1)\n",
    "    for i in range(1, max_plus_one):\n",
    "        if i not in A_set:\n",
    "            return i\n",
    "        \n",
    "    return max_plus_one\n",
    "\n",
    "assert(solution([1, 3, 6, 4, 1, 2]) == 5)\n",
    "assert(solution([1, 2, 3]) == 4)\n",
    "assert(solution([-1, -3]) == 1)"
   ]
  }
 ],
 "metadata": {
  "language_info": {
   "codemirror_mode": {
    "name": "ipython",
    "version": 3
   },
   "file_extension": ".py",
   "mimetype": "text/x-python",
   "name": "python",
   "nbconvert_exporter": "python",
   "pygments_lexer": "ipython3",
   "version": "3.6.2-final"
  },
  "orig_nbformat": 2,
  "kernelspec": {
   "name": "python36264bit3c1cf9ce669c4e7c8385a32ae073f6c8",
   "display_name": "Python 3.6.2 64-bit"
  }
 },
 "nbformat": 4,
 "nbformat_minor": 2
}