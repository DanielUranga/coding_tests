{
 "cells": [
  {
   "cell_type": "markdown",
   "metadata": {},
   "source": [
    "# Happy Number\n",
    "\n",
    "https://leetcode.com/explore/challenge/card/30-day-leetcoding-challenge/528/week-1/3284/\n",
    "\n",
    "Write an algorithm to determine if a number `n` is \"happy\".\n",
    "\n",
    "A happy number is a number defined by the following process: Starting with any positive integer, replace the number by the sum of the squares of its digits, and repeat the process until the number equals 1 (where it will stay), or it **loops endlessly in a cycle** which does not include 1. Those numbers for which this process **ends in 1** are happy numbers.\n",
    "\n",
    "Return True if `n` is a happy number, and False if not.\n",
    "\n",
    "Example: "
   ]
  },
  {
   "cell_type": "code",
   "execution_count": 77,
   "metadata": {},
   "outputs": [],
   "source": [
    "class Solution:\n",
    "    def __init__(self):\n",
    "        pass\n",
    "\n",
    "    def digits(self, n: int):\n",
    "        result = [n % 10]\n",
    "        while n > 9:\n",
    "            n //= 10\n",
    "            result.append(n % 10)\n",
    "        return result\n",
    "    \n",
    "    def squared_sum_of_digits(self, n: int):\n",
    "        return sum(map(lambda n: n*n, self.digits(n)))\n",
    "    \n",
    "    def isHappy(self, n: int) -> bool:\n",
    "        cache = set()\n",
    "        while True:\n",
    "            if n == 1:\n",
    "                return True\n",
    "            elif n in cache:\n",
    "                return False\n",
    "            else:\n",
    "                cache.add(n)\n",
    "                n = self.squared_sum_of_digits(n)"
   ]
  },
  {
   "cell_type": "code",
   "execution_count": 79,
   "metadata": {},
   "outputs": [
    {
     "output_type": "stream",
     "name": "stdout",
     "text": "True\n"
    }
   ],
   "source": [
    "s = Solution()\n",
    "print(s.isHappy(19))"
   ]
  },
  {
   "cell_type": "code",
   "execution_count": null,
   "metadata": {},
   "outputs": [],
   "source": []
  }
 ],
 "metadata": {
  "language_info": {
   "codemirror_mode": {
    "name": "ipython",
    "version": 3
   },
   "file_extension": ".py",
   "mimetype": "text/x-python",
   "name": "python",
   "nbconvert_exporter": "python",
   "pygments_lexer": "ipython3",
   "version": "3.6.2-final"
  },
  "orig_nbformat": 2,
  "kernelspec": {
   "name": "python36264bit3c1cf9ce669c4e7c8385a32ae073f6c8",
   "display_name": "Python 3.6.2 64-bit"
  }
 },
 "nbformat": 4,
 "nbformat_minor": 2
}