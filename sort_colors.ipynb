{
 "cells": [
  {
   "cell_type": "markdown",
   "metadata": {},
   "source": [
    "# Sort Colors\n",
    "\n",
    "Given an array with n objects colored red, white or blue, sort them __in-place__ so that objects of the same color are adjacent, with the colors in the order red, white and blue.\n",
    "\n",
    "Here, we will use the integers 0, 1, and 2 to represent the color red, white, and blue respectively.\n",
    "\n",
    "__Note:__ You are not suppose to use the library's sort function for this problem.\n",
    "\n",
    "__Example:__\n",
    "```\n",
    "Input: [2,0,2,1,1,0]\n",
    "Output: [0,0,1,1,2,2]\n",
    "```\n",
    "\n",
    "__Follow up:__\n",
    "* A rather straight forward solution is a two-pass algorithm using counting sort. First, iterate the array counting number of 0's, 1's, and 2's, then overwrite array with total number of 0's, then 1's and followed by 2's.\n",
    "* Could you come up with a one-pass algorithm using only constant space?"
   ]
  },
  {
   "cell_type": "code",
   "execution_count": 79,
   "metadata": {},
   "outputs": [],
   "source": [
    "class Solution:\n",
    "    def sortColors(self, nums):\n",
    "        \"\"\"\n",
    "        Do not return anything, modify nums in-place instead.\n",
    "        \"\"\"\n",
    "        def swap(i, j):\n",
    "            tmp = nums[i]\n",
    "            nums[i] = nums[j]\n",
    "            nums[j] = tmp\n",
    "\n",
    "        zero_idx = 0\n",
    "        two_idx = len(nums) - 1\n",
    "        for idx in range(len(nums)):\n",
    "            n = nums[idx]\n",
    "            while n != 1 and idx >= zero_idx and idx <= two_idx:\n",
    "                n = nums[idx]\n",
    "                if n == 0:\n",
    "                    swap(idx, zero_idx)\n",
    "                    zero_idx += 1\n",
    "                elif n == 2:\n",
    "                    swap(idx, two_idx)\n",
    "                    two_idx -= 1"
   ]
  },
  {
   "cell_type": "code",
   "execution_count": 80,
   "metadata": {},
   "outputs": [
    {
     "output_type": "stream",
     "name": "stdout",
     "text": "[0, 1, 2]\n[0, 1, 2]\n"
    }
   ],
   "source": [
    "s = Solution()\n",
    "for arr in [[2,0,1], [1,2,0]]:\n",
    "    s.sortColors(arr)\n",
    "    print(arr)"
   ]
  }
 ],
 "metadata": {
  "language_info": {
   "codemirror_mode": {
    "name": "ipython",
    "version": 3
   },
   "file_extension": ".py",
   "mimetype": "text/x-python",
   "name": "python",
   "nbconvert_exporter": "python",
   "pygments_lexer": "ipython3",
   "version": "3.6.2-final"
  },
  "orig_nbformat": 2,
  "kernelspec": {
   "name": "python3",
   "display_name": "Python 3"
  }
 },
 "nbformat": 4,
 "nbformat_minor": 2
}