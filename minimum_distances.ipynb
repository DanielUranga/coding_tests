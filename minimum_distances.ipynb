{
 "cells": [
  {
   "cell_type": "markdown",
   "metadata": {},
   "source": [
    "# Minimum Distances\n",
    "\n",
    "https://www.hackerrank.com/challenges/minimum-distances/problem\n",
    "\n",
    "## Problem\n",
    "We define the distance between two array values as the number of indices between the two values. Given $\\alpha$, find the minimum distance between any pair of equal elements in the array. If no such value exists, print $-1$.\n",
    "For example, if $\\alpha = [3,2,1,2,3]$, there are two matching pairs of values: $3$ and $2$. The indices of the $3$s are $i = 0$ and $j = 4$, so their distance is $d[i,j] = |j-i| = 4$. The indices of the $2$s are $i = 1$ and $j = 3$, so their distance is $d[i,j] = |j-1| = 2$.\n",
    "\n",
    "## Function Description\n",
    "Complete the minimumDistances function in the editor below. It should return the minimum distance between any two matching elements.\n",
    "minimumDistances has the following parameter(s):\n",
    "* a: an array of integers\n",
    "\n",
    "## Input Format\n",
    "The first line contains an intenger $n$, the size of array $a$.\n",
    "The second line contains $n$ space-separated integers $a[i]$.\n",
    "\n",
    "## Constraints\n",
    "* $1 \\leq n \\leq 10^3$\n",
    "* $1 \\leq a[i] \\leq 10^5$\n",
    "\n",
    "## Output Format\n",
    "Print a single integer denoting the minimum $d[i,j]$ in $a$. If no such value exists, print $-1$.\n",
    "\n",
    "## Sample Input\n",
    "```\n",
    "6\n",
    "7 1 3 4 1 7\n",
    "```\n",
    "\n",
    "## Sammple Output\n",
    "```\n",
    "3\n",
    "```\n",
    "\n",
    "## Explanation\n",
    "Here, we have two options:\n",
    "* $a[1]$ and $a[4]$ are both $1$, so $d[1,4] = |1 - 4|=3$\n",
    "* $a[0]$ and $a[5]$ are both $7$, so $d[0,5] = |0 - 5|=5$\n",
    "\n",
    "The answer is $min(3,5)=3$."
   ]
  },
  {
   "cell_type": "code",
   "execution_count": 36,
   "metadata": {},
   "outputs": [],
   "source": [
    "# Simple naive solution. Time complexity O(n^2).\n",
    "def minimumDistances_1(a):\n",
    "    min_distance = len(a) + 1\n",
    "    for i in range(len(a)):\n",
    "        elem_i = a[i]\n",
    "        for j in range(i, len(a)):\n",
    "            if j == i:\n",
    "                continue\n",
    "            elem_j = a[j]\n",
    "            if (elem_i == elem_j):\n",
    "                distance = abs(j - i)\n",
    "                if (distance < min_distance):\n",
    "                    min_distance = distance\n",
    "    if (min_distance > len(a)):\n",
    "        return -1\n",
    "    return min_distance"
   ]
  },
  {
   "cell_type": "code",
   "execution_count": 38,
   "metadata": {},
   "outputs": [],
   "source": [
    "# Same as the previous, but optimized.\n",
    "def minimumDistances_2(a):\n",
    "    min_distance = len(a) + 1\n",
    "    for i in range(len(a)):\n",
    "        elem_i = a[i]\n",
    "        for j in range(i, len(a)):\n",
    "            if j == i:\n",
    "                continue\n",
    "            if (min_distance > 0 and min_distance < abs(j - i)):\n",
    "                break\n",
    "            elem_j = a[j]\n",
    "            if (elem_i == elem_j):\n",
    "                distance = abs(j - i)\n",
    "                if (distance < min_distance):\n",
    "                    min_distance = distance\n",
    "    if (min_distance > len(a)):\n",
    "        return -1\n",
    "    return min_distance"
   ]
  },
  {
   "cell_type": "code",
   "execution_count": 40,
   "metadata": {},
   "outputs": [],
   "source": [
    "# Uses more memory, but time complexity is O(n).\n",
    "def minimumDistances_3(a):\n",
    "    min_distance = len(a) + 1\n",
    "    last_occurrence = {}\n",
    "    for i in range(len(a)):\n",
    "        elem_i = a[i]\n",
    "        if elem_i in last_occurrence:\n",
    "            distance = abs(i - last_occurrence[elem_i])\n",
    "            min_distance = min(distance, min_distance)\n",
    "        last_occurrence[elem_i] = i\n",
    "    if (min_distance > len(a)):\n",
    "        return -1\n",
    "    return min_distance"
   ]
  },
  {
   "cell_type": "code",
   "execution_count": 52,
   "metadata": {},
   "outputs": [
    {
     "name": "stdout",
     "output_type": "stream",
     "text": [
      "13\n",
      "13\n",
      "13\n"
     ]
    }
   ],
   "source": [
    "# Check all implementations return the same results.\n",
    "a = [randint(1, 100000) for i in range(10000)]\n",
    "print(minimumDistances_1(a))\n",
    "print(minimumDistances_2(a))\n",
    "print(minimumDistances_3(a))"
   ]
  },
  {
   "cell_type": "code",
   "execution_count": 51,
   "metadata": {},
   "outputs": [
    {
     "data": {
      "text/plain": [
       "<matplotlib.legend.Legend at 0x7f63dfde24a8>"
      ]
     },
     "execution_count": 51,
     "metadata": {},
     "output_type": "execute_result"
    },
    {
     "data": {
      "image/png": "[encoded data removed]",
      "text/plain": [
       "<Figure size 432x288 with 1 Axes>"
      ]
     },
     "metadata": {
      "needs_background": "light"
     },
     "output_type": "display_data"
    }
   ],
   "source": [
    "import random\n",
    "from random import randint\n",
    "import matplotlib.pyplot as plt\n",
    "\n",
    "def timereps(func, reps):\n",
    "    from time import time\n",
    "    start = time()\n",
    "    for i in range(0, reps):\n",
    "        func()\n",
    "    end = time()\n",
    "    return (end - start) / reps\n",
    "\n",
    "def benchmark(func):\n",
    "    ns = []\n",
    "    times = []\n",
    "    for n in range(1, 1000, 50):\n",
    "        ns.append(n)\n",
    "        times.append(timereps(lambda: func([randint(1, 10000) for i in range(n)]), 20))\n",
    "    return ns, times\n",
    "\n",
    "ns, times = benchmark(minimumDistances_1)\n",
    "plt.plot(ns, times, label='minimumDistances_1')\n",
    "\n",
    "# ns, times = benchmark(minimumDistances_2)\n",
    "# plt.plot(ns, times, label='minimumDistances_2')\n",
    "\n",
    "ns, times = benchmark(minimumDistances_3)\n",
    "plt.plot(ns, times, label='minimumDistances_3')\n",
    "\n",
    "plt.legend()"
   ]
  },
  {
   "cell_type": "code",
   "execution_count": null,
   "metadata": {},
   "outputs": [],
   "source": []
  }
 ],
 "metadata": {
  "kernelspec": {
   "display_name": "Python 3",
   "language": "python",
   "name": "python3"
  },
  "language_info": {
   "codemirror_mode": {
    "name": "ipython",
    "version": 3
   },
   "file_extension": ".py",
   "mimetype": "text/x-python",
   "name": "python",
   "nbconvert_exporter": "python",
   "pygments_lexer": "ipython3",
   "version": "3.6.2"
  }
 },
 "nbformat": 4,
 "nbformat_minor": 2
}
