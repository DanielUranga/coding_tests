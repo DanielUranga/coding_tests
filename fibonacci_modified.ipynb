{
 "cells": [
  {
   "cell_type": "markdown",
   "metadata": {},
   "source": [
    "# Fibonacci Modified\n",
    "https://www.hackerrank.com/challenges/fibonacci-modified/problem"
   ]
  },
  {
   "cell_type": "code",
   "execution_count": 1,
   "metadata": {},
   "outputs": [],
   "source": [
    "def fibonacciModified(t1, t2, n):\n",
    "    tn = [t1, t2]\n",
    "    while len(tn) < n:\n",
    "        tn.append(tn[-2] + tn[-1]*tn[-1])\n",
    "    return tn[n-1]"
   ]
  },
  {
   "cell_type": "code",
   "execution_count": 3,
   "metadata": {},
   "outputs": [],
   "source": [
    "assert(fibonacciModified(0, 1, 5) == 5)\n",
    "assert(fibonacciModified(0, 1, 10) == 84266613096281243382112)"
   ]
  }
 ],
 "metadata": {
  "language_info": {
   "codemirror_mode": {
    "name": "ipython",
    "version": 3
   },
   "file_extension": ".py",
   "mimetype": "text/x-python",
   "name": "python",
   "nbconvert_exporter": "python",
   "pygments_lexer": "ipython3",
   "version": "3.6.2-final"
  },
  "orig_nbformat": 2,
  "kernelspec": {
   "name": "python36264bit3c1cf9ce669c4e7c8385a32ae073f6c8",
   "display_name": "Python 3.6.2 64-bit"
  }
 },
 "nbformat": 4,
 "nbformat_minor": 2
}