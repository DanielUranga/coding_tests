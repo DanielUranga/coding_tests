{
 "cells": [
  {
   "cell_type": "markdown",
   "metadata": {},
   "source": [
    "# Pairs\n",
    "https://www.hackerrank.com/challenges/pairs/problem"
   ]
  },
  {
   "cell_type": "code",
   "execution_count": 12,
   "metadata": {},
   "outputs": [],
   "source": [
    "def pairs(k, arr):\n",
    "    if (len(arr) < 2):\n",
    "        return 0\n",
    "    arr.sort()\n",
    "    \n",
    "    back_idx = 0\n",
    "    front_idx = 1\n",
    "    count = 0\n",
    "    \n",
    "    while front_idx < len(arr):\n",
    "        diff = arr[front_idx] - arr[back_idx]\n",
    "        \n",
    "        if diff == k:\n",
    "            count = count + 1\n",
    "        \n",
    "        if diff <= k:\n",
    "            front_idx = front_idx + 1\n",
    "        else:\n",
    "            back_idx = back_idx + 1\n",
    "    \n",
    "    return count\n",
    "    \n",
    "assert pairs(1, [1,2,3,4]) == 3\n",
    "assert pairs(2, [1,5,4,3,2]) == 3"
   ]
  }
 ],
 "metadata": {
  "kernelspec": {
   "display_name": "Python 3.6.2 64-bit",
   "language": "python",
   "name": "python36264bit3c1cf9ce669c4e7c8385a32ae073f6c8"
  },
  "language_info": {
   "codemirror_mode": {
    "name": "ipython",
    "version": 3
   },
   "file_extension": ".py",
   "mimetype": "text/x-python",
   "name": "python",
   "nbconvert_exporter": "python",
   "pygments_lexer": "ipython3",
   "version": "3.6.2"
  }
 },
 "nbformat": 4,
 "nbformat_minor": 2
}
