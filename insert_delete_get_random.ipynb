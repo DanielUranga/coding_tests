{
 "cells": [
  {
   "cell_type": "markdown",
   "metadata": {},
   "source": [
    "# Insert Delete GetRandom O(1)\n",
    "Design a data structure that supports all following operations in average O(1) time.\n",
    "\n",
    "1. `insert(val)`: Inserts an item val to the set if not already present.\n",
    "1. `remove(val)`: Removes an item val from the set if present.\n",
    "1. `getRandom`: Returns a random element from current set of elements. Each element must have the `same probability` of being returned.\n",
    "\n",
    "__Example:__\n",
    "```\n",
    "// Init an empty set.\n",
    "RandomizedSet randomSet = new RandomizedSet();\n",
    "\n",
    "// Inserts 1 to the set. Returns true as 1 was inserted successfully.\n",
    "randomSet.insert(1);\n",
    "\n",
    "// Returns false as 2 does not exist in the set.\n",
    "randomSet.remove(2);\n",
    "\n",
    "// Inserts 2 to the set, returns true. Set now contains [1,2].\n",
    "randomSet.insert(2);\n",
    "\n",
    "// getRandom should return either 1 or 2 randomly.\n",
    "randomSet.getRandom();\n",
    "\n",
    "// Removes 1 from the set, returns true. Set now contains [2].\n",
    "randomSet.remove(1);\n",
    "\n",
    "// 2 was already in the set, so return false.\n",
    "randomSet.insert(2);\n",
    "\n",
    "// Since 2 is the only number in the set, getRandom always return 2.\n",
    "randomSet.getRandom();\n",
    "```"
   ]
  },
  {
   "cell_type": "code",
   "execution_count": 14,
   "metadata": {},
   "outputs": [],
   "source": [
    "class RandomizedSet:\n",
    "\n",
    "    def __init__(self):\n",
    "        \"\"\"\n",
    "        Initialize your data structure here.\n",
    "        \"\"\"\n",
    "        self.set = {}\n",
    "        self.arr = []\n",
    "        \n",
    "\n",
    "    def insert(self, val: int) -> bool:\n",
    "        \"\"\"\n",
    "        Inserts a value to the set. Returns true if the set did not already contain the specified element.\n",
    "        \"\"\"\n",
    "        if val in self.set:\n",
    "            return False\n",
    "        self.arr.append(val)\n",
    "        self.set[val] = len(self.arr) - 1\n",
    "        return True\n",
    "            \n",
    "\n",
    "    def remove(self, val: int) -> bool:\n",
    "        \"\"\"\n",
    "        Removes a value from the set. Returns true if the set contained the specified element.\n",
    "        \"\"\"\n",
    "        if not val in self.set:\n",
    "            return False\n",
    "    \n",
    "        index_of_val = self.set[val]\n",
    "        last = self.arr.pop()\n",
    "        if self.arr and last != val:\n",
    "            self.arr[index_of_val] = last\n",
    "            self.set[last] = index_of_val\n",
    "        self.set.pop(val)\n",
    "\n",
    "        return True\n",
    "        \n",
    "\n",
    "    def getRandom(self) -> int:\n",
    "        \"\"\"\n",
    "        Get a random element from the set.\n",
    "        \"\"\"\n",
    "        return random.choice(self.arr)\n",
    "\n",
    "\n",
    "    def __repr__(self):\n",
    "        return f\"s: {self.set} - a: {self.arr}\""
   ]
  },
  {
   "cell_type": "code",
   "execution_count": 15,
   "metadata": {},
   "outputs": [
    {
     "output_type": "stream",
     "name": "stdout",
     "text": "s: {} - a: []\n"
    },
    {
     "output_type": "execute_result",
     "data": {
      "text/plain": "True"
     },
     "metadata": {},
     "execution_count": 15
    }
   ],
   "source": [
    "r = RandomizedSet()\n",
    "r.remove(0)\n",
    "r.remove(0)\n",
    "r.insert(0)\n",
    "r.remove(0)\n",
    "\n",
    "print(r)\n",
    "\n",
    "r.insert(2)"
   ]
  }
 ],
 "metadata": {
  "language_info": {
   "codemirror_mode": {
    "name": "ipython",
    "version": 3
   },
   "file_extension": ".py",
   "mimetype": "text/x-python",
   "name": "python",
   "nbconvert_exporter": "python",
   "pygments_lexer": "ipython3",
   "version": "3.6.2-final"
  },
  "orig_nbformat": 2,
  "kernelspec": {
   "name": "python36264bit3c1cf9ce669c4e7c8385a32ae073f6c8",
   "display_name": "Python 3.6.2 64-bit"
  }
 },
 "nbformat": 4,
 "nbformat_minor": 2
}